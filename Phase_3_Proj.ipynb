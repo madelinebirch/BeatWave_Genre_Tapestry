{
 "cells": [
  {
   "cell_type": "markdown",
   "metadata": {},
   "source": [
    "# Data Classification: Crafting BeatWave's Genre Tapestry"
   ]
  },
  {
   "cell_type": "markdown",
   "metadata": {},
   "source": [
    "## Business Understanding"
   ]
  },
  {
   "cell_type": "markdown",
   "metadata": {},
   "source": [
    "Classifying songs into different genres can aid in organizing and categorizing a large music library. This can be useful for music streaming platforms that need to categorize and tag their music content effectively. \n",
    "\n",
    "We are working for a fictional startup called 'BeatWave', an up-and-coming music streaming platform specializing in electronic music. Through the iterative process of data classification, we can begin to sift through popular electronic songs and give BeatWave a better understanding of which sonic metrics predict which genres. This will allow for a streamlined approach to classifying titles into their appropriate categories."
   ]
  },
  {
   "cell_type": "markdown",
   "metadata": {},
   "source": [
    "## Data Understanding"
   ]
  },
  {
   "cell_type": "markdown",
   "metadata": {},
   "source": [
    "Data source: https://www.kaggle.com/datasets/mrmorj/dataset-of-songs-in-spotify \n",
    "\n",
    "We are using an open source dataset that displays sample data from popular streaming platform Spotify. Using this data will help us gauge our place in competition with the world's leading streaming service.\n",
    "\n",
    "Let's begin by importing the necessary libraries and superficially inspecting the dataset."
   ]
  },
  {
   "cell_type": "code",
   "execution_count": 1,
   "metadata": {},
   "outputs": [
    {
     "name": "stderr",
     "output_type": "stream",
     "text": [
      "<ipython-input-1-85ec021d79d1>:4: DtypeWarning: Columns (19) have mixed types. Specify dtype option on import or set low_memory=False.\n",
      "  df = pd.read_csv('Data/genres.csv')\n"
     ]
    },
    {
     "data": {
      "text/html": [
       "<div>\n",
       "<style scoped>\n",
       "    .dataframe tbody tr th:only-of-type {\n",
       "        vertical-align: middle;\n",
       "    }\n",
       "\n",
       "    .dataframe tbody tr th {\n",
       "        vertical-align: top;\n",
       "    }\n",
       "\n",
       "    .dataframe thead th {\n",
       "        text-align: right;\n",
       "    }\n",
       "</style>\n",
       "<table border=\"1\" class=\"dataframe\">\n",
       "  <thead>\n",
       "    <tr style=\"text-align: right;\">\n",
       "      <th></th>\n",
       "      <th>danceability</th>\n",
       "      <th>energy</th>\n",
       "      <th>key</th>\n",
       "      <th>loudness</th>\n",
       "      <th>mode</th>\n",
       "      <th>speechiness</th>\n",
       "      <th>acousticness</th>\n",
       "      <th>instrumentalness</th>\n",
       "      <th>liveness</th>\n",
       "      <th>valence</th>\n",
       "      <th>...</th>\n",
       "      <th>id</th>\n",
       "      <th>uri</th>\n",
       "      <th>track_href</th>\n",
       "      <th>analysis_url</th>\n",
       "      <th>duration_ms</th>\n",
       "      <th>time_signature</th>\n",
       "      <th>genre</th>\n",
       "      <th>song_name</th>\n",
       "      <th>Unnamed: 0</th>\n",
       "      <th>title</th>\n",
       "    </tr>\n",
       "  </thead>\n",
       "  <tbody>\n",
       "    <tr>\n",
       "      <th>0</th>\n",
       "      <td>0.831</td>\n",
       "      <td>0.814</td>\n",
       "      <td>2</td>\n",
       "      <td>-7.364</td>\n",
       "      <td>1</td>\n",
       "      <td>0.4200</td>\n",
       "      <td>0.0598</td>\n",
       "      <td>0.013400</td>\n",
       "      <td>0.0556</td>\n",
       "      <td>0.3890</td>\n",
       "      <td>...</td>\n",
       "      <td>2Vc6NJ9PW9gD9q343XFRKx</td>\n",
       "      <td>spotify:track:2Vc6NJ9PW9gD9q343XFRKx</td>\n",
       "      <td>https://api.spotify.com/v1/tracks/2Vc6NJ9PW9gD...</td>\n",
       "      <td>https://api.spotify.com/v1/audio-analysis/2Vc6...</td>\n",
       "      <td>124539</td>\n",
       "      <td>4</td>\n",
       "      <td>Dark Trap</td>\n",
       "      <td>Mercury: Retrograde</td>\n",
       "      <td>NaN</td>\n",
       "      <td>NaN</td>\n",
       "    </tr>\n",
       "    <tr>\n",
       "      <th>1</th>\n",
       "      <td>0.719</td>\n",
       "      <td>0.493</td>\n",
       "      <td>8</td>\n",
       "      <td>-7.230</td>\n",
       "      <td>1</td>\n",
       "      <td>0.0794</td>\n",
       "      <td>0.4010</td>\n",
       "      <td>0.000000</td>\n",
       "      <td>0.1180</td>\n",
       "      <td>0.1240</td>\n",
       "      <td>...</td>\n",
       "      <td>7pgJBLVz5VmnL7uGHmRj6p</td>\n",
       "      <td>spotify:track:7pgJBLVz5VmnL7uGHmRj6p</td>\n",
       "      <td>https://api.spotify.com/v1/tracks/7pgJBLVz5Vmn...</td>\n",
       "      <td>https://api.spotify.com/v1/audio-analysis/7pgJ...</td>\n",
       "      <td>224427</td>\n",
       "      <td>4</td>\n",
       "      <td>Dark Trap</td>\n",
       "      <td>Pathology</td>\n",
       "      <td>NaN</td>\n",
       "      <td>NaN</td>\n",
       "    </tr>\n",
       "    <tr>\n",
       "      <th>2</th>\n",
       "      <td>0.850</td>\n",
       "      <td>0.893</td>\n",
       "      <td>5</td>\n",
       "      <td>-4.783</td>\n",
       "      <td>1</td>\n",
       "      <td>0.0623</td>\n",
       "      <td>0.0138</td>\n",
       "      <td>0.000004</td>\n",
       "      <td>0.3720</td>\n",
       "      <td>0.0391</td>\n",
       "      <td>...</td>\n",
       "      <td>0vSWgAlfpye0WCGeNmuNhy</td>\n",
       "      <td>spotify:track:0vSWgAlfpye0WCGeNmuNhy</td>\n",
       "      <td>https://api.spotify.com/v1/tracks/0vSWgAlfpye0...</td>\n",
       "      <td>https://api.spotify.com/v1/audio-analysis/0vSW...</td>\n",
       "      <td>98821</td>\n",
       "      <td>4</td>\n",
       "      <td>Dark Trap</td>\n",
       "      <td>Symbiote</td>\n",
       "      <td>NaN</td>\n",
       "      <td>NaN</td>\n",
       "    </tr>\n",
       "    <tr>\n",
       "      <th>3</th>\n",
       "      <td>0.476</td>\n",
       "      <td>0.781</td>\n",
       "      <td>0</td>\n",
       "      <td>-4.710</td>\n",
       "      <td>1</td>\n",
       "      <td>0.1030</td>\n",
       "      <td>0.0237</td>\n",
       "      <td>0.000000</td>\n",
       "      <td>0.1140</td>\n",
       "      <td>0.1750</td>\n",
       "      <td>...</td>\n",
       "      <td>0VSXnJqQkwuH2ei1nOQ1nu</td>\n",
       "      <td>spotify:track:0VSXnJqQkwuH2ei1nOQ1nu</td>\n",
       "      <td>https://api.spotify.com/v1/tracks/0VSXnJqQkwuH...</td>\n",
       "      <td>https://api.spotify.com/v1/audio-analysis/0VSX...</td>\n",
       "      <td>123661</td>\n",
       "      <td>3</td>\n",
       "      <td>Dark Trap</td>\n",
       "      <td>ProductOfDrugs (Prod. The Virus and Antidote)</td>\n",
       "      <td>NaN</td>\n",
       "      <td>NaN</td>\n",
       "    </tr>\n",
       "    <tr>\n",
       "      <th>4</th>\n",
       "      <td>0.798</td>\n",
       "      <td>0.624</td>\n",
       "      <td>2</td>\n",
       "      <td>-7.668</td>\n",
       "      <td>1</td>\n",
       "      <td>0.2930</td>\n",
       "      <td>0.2170</td>\n",
       "      <td>0.000000</td>\n",
       "      <td>0.1660</td>\n",
       "      <td>0.5910</td>\n",
       "      <td>...</td>\n",
       "      <td>4jCeguq9rMTlbMmPHuO7S3</td>\n",
       "      <td>spotify:track:4jCeguq9rMTlbMmPHuO7S3</td>\n",
       "      <td>https://api.spotify.com/v1/tracks/4jCeguq9rMTl...</td>\n",
       "      <td>https://api.spotify.com/v1/audio-analysis/4jCe...</td>\n",
       "      <td>123298</td>\n",
       "      <td>4</td>\n",
       "      <td>Dark Trap</td>\n",
       "      <td>Venom</td>\n",
       "      <td>NaN</td>\n",
       "      <td>NaN</td>\n",
       "    </tr>\n",
       "  </tbody>\n",
       "</table>\n",
       "<p>5 rows × 22 columns</p>\n",
       "</div>"
      ],
      "text/plain": [
       "   danceability  energy  key  loudness  mode  speechiness  acousticness  \\\n",
       "0         0.831   0.814    2    -7.364     1       0.4200        0.0598   \n",
       "1         0.719   0.493    8    -7.230     1       0.0794        0.4010   \n",
       "2         0.850   0.893    5    -4.783     1       0.0623        0.0138   \n",
       "3         0.476   0.781    0    -4.710     1       0.1030        0.0237   \n",
       "4         0.798   0.624    2    -7.668     1       0.2930        0.2170   \n",
       "\n",
       "   instrumentalness  liveness  valence  ...                      id  \\\n",
       "0          0.013400    0.0556   0.3890  ...  2Vc6NJ9PW9gD9q343XFRKx   \n",
       "1          0.000000    0.1180   0.1240  ...  7pgJBLVz5VmnL7uGHmRj6p   \n",
       "2          0.000004    0.3720   0.0391  ...  0vSWgAlfpye0WCGeNmuNhy   \n",
       "3          0.000000    0.1140   0.1750  ...  0VSXnJqQkwuH2ei1nOQ1nu   \n",
       "4          0.000000    0.1660   0.5910  ...  4jCeguq9rMTlbMmPHuO7S3   \n",
       "\n",
       "                                    uri  \\\n",
       "0  spotify:track:2Vc6NJ9PW9gD9q343XFRKx   \n",
       "1  spotify:track:7pgJBLVz5VmnL7uGHmRj6p   \n",
       "2  spotify:track:0vSWgAlfpye0WCGeNmuNhy   \n",
       "3  spotify:track:0VSXnJqQkwuH2ei1nOQ1nu   \n",
       "4  spotify:track:4jCeguq9rMTlbMmPHuO7S3   \n",
       "\n",
       "                                          track_href  \\\n",
       "0  https://api.spotify.com/v1/tracks/2Vc6NJ9PW9gD...   \n",
       "1  https://api.spotify.com/v1/tracks/7pgJBLVz5Vmn...   \n",
       "2  https://api.spotify.com/v1/tracks/0vSWgAlfpye0...   \n",
       "3  https://api.spotify.com/v1/tracks/0VSXnJqQkwuH...   \n",
       "4  https://api.spotify.com/v1/tracks/4jCeguq9rMTl...   \n",
       "\n",
       "                                        analysis_url duration_ms  \\\n",
       "0  https://api.spotify.com/v1/audio-analysis/2Vc6...      124539   \n",
       "1  https://api.spotify.com/v1/audio-analysis/7pgJ...      224427   \n",
       "2  https://api.spotify.com/v1/audio-analysis/0vSW...       98821   \n",
       "3  https://api.spotify.com/v1/audio-analysis/0VSX...      123661   \n",
       "4  https://api.spotify.com/v1/audio-analysis/4jCe...      123298   \n",
       "\n",
       "  time_signature      genre                                      song_name  \\\n",
       "0              4  Dark Trap                            Mercury: Retrograde   \n",
       "1              4  Dark Trap                                      Pathology   \n",
       "2              4  Dark Trap                                       Symbiote   \n",
       "3              3  Dark Trap  ProductOfDrugs (Prod. The Virus and Antidote)   \n",
       "4              4  Dark Trap                                          Venom   \n",
       "\n",
       "  Unnamed: 0 title  \n",
       "0        NaN   NaN  \n",
       "1        NaN   NaN  \n",
       "2        NaN   NaN  \n",
       "3        NaN   NaN  \n",
       "4        NaN   NaN  \n",
       "\n",
       "[5 rows x 22 columns]"
      ]
     },
     "execution_count": 1,
     "metadata": {},
     "output_type": "execute_result"
    }
   ],
   "source": [
    "import pandas as pd\n",
    "import numpy as np\n",
    "\n",
    "df = pd.read_csv('Data/genres.csv')\n",
    "\n",
    "df.head()"
   ]
  },
  {
   "cell_type": "code",
   "execution_count": 2,
   "metadata": {},
   "outputs": [
    {
     "data": {
      "text/plain": [
       "Index(['danceability', 'energy', 'key', 'loudness', 'mode', 'speechiness',\n",
       "       'acousticness', 'instrumentalness', 'liveness', 'valence', 'tempo',\n",
       "       'type', 'id', 'uri', 'track_href', 'analysis_url', 'duration_ms',\n",
       "       'time_signature', 'genre', 'song_name', 'Unnamed: 0', 'title'],\n",
       "      dtype='object')"
      ]
     },
     "execution_count": 2,
     "metadata": {},
     "output_type": "execute_result"
    }
   ],
   "source": [
    "df.columns"
   ]
  },
  {
   "cell_type": "code",
   "execution_count": 3,
   "metadata": {},
   "outputs": [
    {
     "data": {
      "text/plain": [
       "0.0        1\n",
       "13955.0    1\n",
       "13973.0    1\n",
       "13972.0    1\n",
       "13971.0    1\n",
       "          ..\n",
       "6994.0     1\n",
       "6993.0     1\n",
       "6992.0     1\n",
       "6991.0     1\n",
       "20999.0    1\n",
       "Name: Unnamed: 0, Length: 20780, dtype: int64"
      ]
     },
     "execution_count": 3,
     "metadata": {},
     "output_type": "execute_result"
    }
   ],
   "source": [
    "df['Unnamed: 0'].value_counts()"
   ]
  },
  {
   "cell_type": "code",
   "execution_count": 4,
   "metadata": {},
   "outputs": [
    {
     "data": {
      "text/plain": [
       "15"
      ]
     },
     "execution_count": 4,
     "metadata": {},
     "output_type": "execute_result"
    }
   ],
   "source": [
    "len(df['genre'].value_counts())"
   ]
  },
  {
   "cell_type": "markdown",
   "metadata": {},
   "source": [
    "** things to consider **\n",
    "- Low metrics- specify in data/business understanding what a false positive or negative implies- i.e. song gets miscategorized, has impact on user experience (limitations, next steps)\n",
    "- Reframe business understanding to incorporate this \n",
    "- outline what the startutp would need to do to improve their model\n",
    "- set proper expectations that metrics will be weak\n",
    "- decision tree\n",
    "- random forest\n",
    "- knearest neighbors\n",
    "- evaluate which is strongest performing algorithm\n",
    "- final model- recommendation to gather additional data eg. 400-500,000 songs/records \n",
    "- run final model with additional data to see how metrics improve\n"
   ]
  },
  {
   "cell_type": "code",
   "execution_count": 5,
   "metadata": {},
   "outputs": [
    {
     "data": {
      "text/plain": [
       "(42305, 22)"
      ]
     },
     "execution_count": 5,
     "metadata": {},
     "output_type": "execute_result"
    }
   ],
   "source": [
    "df.shape"
   ]
  },
  {
   "cell_type": "code",
   "execution_count": 6,
   "metadata": {},
   "outputs": [
    {
     "data": {
      "text/plain": [
       "<bound method NDFrame.describe of        danceability  energy  key  loudness  mode  speechiness  acousticness  \\\n",
       "0             0.831   0.814    2    -7.364     1       0.4200      0.059800   \n",
       "1             0.719   0.493    8    -7.230     1       0.0794      0.401000   \n",
       "2             0.850   0.893    5    -4.783     1       0.0623      0.013800   \n",
       "3             0.476   0.781    0    -4.710     1       0.1030      0.023700   \n",
       "4             0.798   0.624    2    -7.668     1       0.2930      0.217000   \n",
       "...             ...     ...  ...       ...   ...          ...           ...   \n",
       "42300         0.528   0.693    4    -5.148     1       0.0304      0.031500   \n",
       "42301         0.517   0.768    0    -7.922     0       0.0479      0.022500   \n",
       "42302         0.361   0.821    8    -3.102     1       0.0505      0.026000   \n",
       "42303         0.477   0.921    6    -4.777     0       0.0392      0.000551   \n",
       "42304         0.529   0.945    9    -5.862     1       0.0615      0.001890   \n",
       "\n",
       "       instrumentalness  liveness  valence  ...                      id  \\\n",
       "0              0.013400    0.0556   0.3890  ...  2Vc6NJ9PW9gD9q343XFRKx   \n",
       "1              0.000000    0.1180   0.1240  ...  7pgJBLVz5VmnL7uGHmRj6p   \n",
       "2              0.000004    0.3720   0.0391  ...  0vSWgAlfpye0WCGeNmuNhy   \n",
       "3              0.000000    0.1140   0.1750  ...  0VSXnJqQkwuH2ei1nOQ1nu   \n",
       "4              0.000000    0.1660   0.5910  ...  4jCeguq9rMTlbMmPHuO7S3   \n",
       "...                 ...       ...      ...  ...                     ...   \n",
       "42300          0.000345    0.1210   0.3940  ...  46bXU7Sgj7104ZoXxzz9tM   \n",
       "42301          0.000018    0.2050   0.3830  ...  0he2ViGMUO3ajKTxLOfWVT   \n",
       "42302          0.000242    0.3850   0.1240  ...  72DAt9Lbpy9EUS29OzQLob   \n",
       "42303          0.029600    0.0575   0.4880  ...  6HXgExFVuE1c3cq9QjFCcU   \n",
       "42304          0.000055    0.4140   0.1340  ...  6MAAMZImxcvYhRnxDLTufD   \n",
       "\n",
       "                                        uri  \\\n",
       "0      spotify:track:2Vc6NJ9PW9gD9q343XFRKx   \n",
       "1      spotify:track:7pgJBLVz5VmnL7uGHmRj6p   \n",
       "2      spotify:track:0vSWgAlfpye0WCGeNmuNhy   \n",
       "3      spotify:track:0VSXnJqQkwuH2ei1nOQ1nu   \n",
       "4      spotify:track:4jCeguq9rMTlbMmPHuO7S3   \n",
       "...                                     ...   \n",
       "42300  spotify:track:46bXU7Sgj7104ZoXxzz9tM   \n",
       "42301  spotify:track:0he2ViGMUO3ajKTxLOfWVT   \n",
       "42302  spotify:track:72DAt9Lbpy9EUS29OzQLob   \n",
       "42303  spotify:track:6HXgExFVuE1c3cq9QjFCcU   \n",
       "42304  spotify:track:6MAAMZImxcvYhRnxDLTufD   \n",
       "\n",
       "                                              track_href  \\\n",
       "0      https://api.spotify.com/v1/tracks/2Vc6NJ9PW9gD...   \n",
       "1      https://api.spotify.com/v1/tracks/7pgJBLVz5Vmn...   \n",
       "2      https://api.spotify.com/v1/tracks/0vSWgAlfpye0...   \n",
       "3      https://api.spotify.com/v1/tracks/0VSXnJqQkwuH...   \n",
       "4      https://api.spotify.com/v1/tracks/4jCeguq9rMTl...   \n",
       "...                                                  ...   \n",
       "42300  https://api.spotify.com/v1/tracks/46bXU7Sgj710...   \n",
       "42301  https://api.spotify.com/v1/tracks/0he2ViGMUO3a...   \n",
       "42302  https://api.spotify.com/v1/tracks/72DAt9Lbpy9E...   \n",
       "42303  https://api.spotify.com/v1/tracks/6HXgExFVuE1c...   \n",
       "42304  https://api.spotify.com/v1/tracks/6MAAMZImxcvY...   \n",
       "\n",
       "                                            analysis_url duration_ms  \\\n",
       "0      https://api.spotify.com/v1/audio-analysis/2Vc6...      124539   \n",
       "1      https://api.spotify.com/v1/audio-analysis/7pgJ...      224427   \n",
       "2      https://api.spotify.com/v1/audio-analysis/0vSW...       98821   \n",
       "3      https://api.spotify.com/v1/audio-analysis/0VSX...      123661   \n",
       "4      https://api.spotify.com/v1/audio-analysis/4jCe...      123298   \n",
       "...                                                  ...         ...   \n",
       "42300  https://api.spotify.com/v1/audio-analysis/46bX...      269208   \n",
       "42301  https://api.spotify.com/v1/audio-analysis/0he2...      210112   \n",
       "42302  https://api.spotify.com/v1/audio-analysis/72DA...      234823   \n",
       "42303  https://api.spotify.com/v1/audio-analysis/6HXg...      323200   \n",
       "42304  https://api.spotify.com/v1/audio-analysis/6MAA...      162161   \n",
       "\n",
       "      time_signature      genre  \\\n",
       "0                  4  Dark Trap   \n",
       "1                  4  Dark Trap   \n",
       "2                  4  Dark Trap   \n",
       "3                  3  Dark Trap   \n",
       "4                  4  Dark Trap   \n",
       "...              ...        ...   \n",
       "42300              4  hardstyle   \n",
       "42301              4  hardstyle   \n",
       "42302              4  hardstyle   \n",
       "42303              4  hardstyle   \n",
       "42304              4  hardstyle   \n",
       "\n",
       "                                           song_name Unnamed: 0  \\\n",
       "0                                Mercury: Retrograde        NaN   \n",
       "1                                          Pathology        NaN   \n",
       "2                                           Symbiote        NaN   \n",
       "3      ProductOfDrugs (Prod. The Virus and Antidote)        NaN   \n",
       "4                                              Venom        NaN   \n",
       "...                                              ...        ...   \n",
       "42300                                            NaN    20995.0   \n",
       "42301                                            NaN    20996.0   \n",
       "42302                                            NaN    20997.0   \n",
       "42303                                            NaN    20998.0   \n",
       "42304                                            NaN    20999.0   \n",
       "\n",
       "                             title  \n",
       "0                              NaN  \n",
       "1                              NaN  \n",
       "2                              NaN  \n",
       "3                              NaN  \n",
       "4                              NaN  \n",
       "...                            ...  \n",
       "42300           Euphoric Hardstyle  \n",
       "42301  Greatest Hardstyle Playlist  \n",
       "42302       Best of Hardstyle 2020  \n",
       "42303           Euphoric Hardstyle  \n",
       "42304       Best of Hardstyle 2020  \n",
       "\n",
       "[42305 rows x 22 columns]>"
      ]
     },
     "execution_count": 6,
     "metadata": {},
     "output_type": "execute_result"
    }
   ],
   "source": [
    "df.describe"
   ]
  },
  {
   "cell_type": "code",
   "execution_count": 7,
   "metadata": {},
   "outputs": [
    {
     "data": {
      "text/plain": [
       "0    2\n",
       "1    8\n",
       "2    5\n",
       "3    0\n",
       "4    2\n",
       "Name: key, dtype: int64"
      ]
     },
     "execution_count": 7,
     "metadata": {},
     "output_type": "execute_result"
    }
   ],
   "source": [
    "df['key'].head()"
   ]
  },
  {
   "cell_type": "code",
   "execution_count": 8,
   "metadata": {},
   "outputs": [
    {
     "data": {
      "text/plain": [
       "Series([], dtype: int64)"
      ]
     },
     "execution_count": 8,
     "metadata": {},
     "output_type": "execute_result"
    }
   ],
   "source": [
    "df.value_counts()"
   ]
  },
  {
   "cell_type": "markdown",
   "metadata": {},
   "source": [
    "# DATA UNDERSTANDING"
   ]
  },
  {
   "cell_type": "markdown",
   "metadata": {},
   "source": [
    "The dataset is "
   ]
  },
  {
   "cell_type": "markdown",
   "metadata": {},
   "source": [
    "# DATA PREPARATION"
   ]
  },
  {
   "cell_type": "code",
   "execution_count": 9,
   "metadata": {},
   "outputs": [
    {
     "data": {
      "text/plain": [
       "danceability            0\n",
       "energy                  0\n",
       "key                     0\n",
       "loudness                0\n",
       "mode                    0\n",
       "speechiness             0\n",
       "acousticness            0\n",
       "instrumentalness        0\n",
       "liveness                0\n",
       "valence                 0\n",
       "tempo                   0\n",
       "type                    0\n",
       "id                      0\n",
       "uri                     0\n",
       "track_href              0\n",
       "analysis_url            0\n",
       "duration_ms             0\n",
       "time_signature          0\n",
       "genre                   0\n",
       "song_name           20786\n",
       "Unnamed: 0          21525\n",
       "title               21525\n",
       "dtype: int64"
      ]
     },
     "execution_count": 9,
     "metadata": {},
     "output_type": "execute_result"
    }
   ],
   "source": [
    "df.isnull().sum()"
   ]
  },
  {
   "cell_type": "code",
   "execution_count": 10,
   "metadata": {},
   "outputs": [
    {
     "data": {
      "text/plain": [
       "(42305, 22)"
      ]
     },
     "execution_count": 10,
     "metadata": {},
     "output_type": "execute_result"
    }
   ],
   "source": [
    "df.shape"
   ]
  },
  {
   "cell_type": "code",
   "execution_count": 11,
   "metadata": {},
   "outputs": [],
   "source": [
    "df = df.dropna(axis=1)"
   ]
  },
  {
   "cell_type": "code",
   "execution_count": 12,
   "metadata": {},
   "outputs": [
    {
     "data": {
      "text/plain": [
       "danceability        0\n",
       "energy              0\n",
       "key                 0\n",
       "loudness            0\n",
       "mode                0\n",
       "speechiness         0\n",
       "acousticness        0\n",
       "instrumentalness    0\n",
       "liveness            0\n",
       "valence             0\n",
       "tempo               0\n",
       "type                0\n",
       "id                  0\n",
       "uri                 0\n",
       "track_href          0\n",
       "analysis_url        0\n",
       "duration_ms         0\n",
       "time_signature      0\n",
       "genre               0\n",
       "dtype: int64"
      ]
     },
     "execution_count": 12,
     "metadata": {},
     "output_type": "execute_result"
    }
   ],
   "source": [
    "df.isnull().sum()"
   ]
  },
  {
   "cell_type": "code",
   "execution_count": 13,
   "metadata": {},
   "outputs": [
    {
     "data": {
      "text/plain": [
       "(42305, 19)"
      ]
     },
     "execution_count": 13,
     "metadata": {},
     "output_type": "execute_result"
    }
   ],
   "source": [
    "df.shape"
   ]
  },
  {
   "cell_type": "code",
   "execution_count": 14,
   "metadata": {},
   "outputs": [
    {
     "data": {
      "text/plain": [
       "Underground Rap    5875\n",
       "Dark Trap          4578\n",
       "Hiphop             3028\n",
       "trance             2999\n",
       "trap               2987\n",
       "techhouse          2975\n",
       "dnb                2966\n",
       "psytrance          2961\n",
       "techno             2956\n",
       "hardstyle          2936\n",
       "RnB                2099\n",
       "Trap Metal         1956\n",
       "Rap                1848\n",
       "Emo                1680\n",
       "Pop                 461\n",
       "Name: genre, dtype: int64"
      ]
     },
     "execution_count": 14,
     "metadata": {},
     "output_type": "execute_result"
    }
   ],
   "source": [
    "df['genre'].value_counts()"
   ]
  },
  {
   "cell_type": "markdown",
   "metadata": {},
   "source": [
    "# MODELING"
   ]
  },
  {
   "cell_type": "markdown",
   "metadata": {},
   "source": [
    "## Baseline Model"
   ]
  },
  {
   "cell_type": "code",
   "execution_count": 15,
   "metadata": {},
   "outputs": [],
   "source": []
  },
  {
   "cell_type": "code",
   "execution_count": 18,
   "metadata": {},
   "outputs": [
    {
     "data": {
      "text/plain": [
       "Index(['danceability', 'energy', 'key', 'loudness', 'mode', 'speechiness',\n",
       "       'acousticness', 'instrumentalness', 'liveness', 'valence', 'tempo',\n",
       "       'type', 'id', 'uri', 'track_href', 'analysis_url', 'duration_ms',\n",
       "       'time_signature', 'genre'],\n",
       "      dtype='object')"
      ]
     },
     "execution_count": 18,
     "metadata": {},
     "output_type": "execute_result"
    }
   ],
   "source": [
    "df.columns"
   ]
  },
  {
   "cell_type": "code",
   "execution_count": 20,
   "metadata": {},
   "outputs": [
    {
     "name": "stderr",
     "output_type": "stream",
     "text": [
      "<ipython-input-20-7098c5cddd41>:2: SettingWithCopyWarning: \n",
      "A value is trying to be set on a copy of a slice from a DataFrame\n",
      "\n",
      "See the caveats in the documentation: https://pandas.pydata.org/pandas-docs/stable/user_guide/indexing.html#returning-a-view-versus-a-copy\n",
      "  df.drop('analysis_url', axis=1, inplace=True)\n"
     ]
    }
   ],
   "source": [
    "# Assuming 'df' is your dataframe\n",
    "df.drop('analysis_url', axis=1, inplace=True)\n"
   ]
  },
  {
   "cell_type": "code",
   "execution_count": 22,
   "metadata": {},
   "outputs": [
    {
     "name": "stdout",
     "output_type": "stream",
     "text": [
      "       danceability  energy  key  loudness  mode  speechiness  acousticness  \\\n",
      "0             0.831   0.814    2    -7.364     1       0.4200      0.059800   \n",
      "1             0.719   0.493    8    -7.230     1       0.0794      0.401000   \n",
      "2             0.850   0.893    5    -4.783     1       0.0623      0.013800   \n",
      "3             0.476   0.781    0    -4.710     1       0.1030      0.023700   \n",
      "4             0.798   0.624    2    -7.668     1       0.2930      0.217000   \n",
      "...             ...     ...  ...       ...   ...          ...           ...   \n",
      "42300         0.528   0.693    4    -5.148     1       0.0304      0.031500   \n",
      "42301         0.517   0.768    0    -7.922     0       0.0479      0.022500   \n",
      "42302         0.361   0.821    8    -3.102     1       0.0505      0.026000   \n",
      "42303         0.477   0.921    6    -4.777     0       0.0392      0.000551   \n",
      "42304         0.529   0.945    9    -5.862     1       0.0615      0.001890   \n",
      "\n",
      "       instrumentalness  liveness  valence    tempo            type  \\\n",
      "0              0.013400    0.0556   0.3890  156.985  audio_features   \n",
      "1              0.000000    0.1180   0.1240  115.080  audio_features   \n",
      "2              0.000004    0.3720   0.0391  218.050  audio_features   \n",
      "3              0.000000    0.1140   0.1750  186.948  audio_features   \n",
      "4              0.000000    0.1660   0.5910  147.988  audio_features   \n",
      "...                 ...       ...      ...      ...             ...   \n",
      "42300          0.000345    0.1210   0.3940  150.013  audio_features   \n",
      "42301          0.000018    0.2050   0.3830  149.928  audio_features   \n",
      "42302          0.000242    0.3850   0.1240  154.935  audio_features   \n",
      "42303          0.029600    0.0575   0.4880  150.042  audio_features   \n",
      "42304          0.000055    0.4140   0.1340  155.047  audio_features   \n",
      "\n",
      "                           id                                   uri  \\\n",
      "0      2Vc6NJ9PW9gD9q343XFRKx  spotify:track:2Vc6NJ9PW9gD9q343XFRKx   \n",
      "1      7pgJBLVz5VmnL7uGHmRj6p  spotify:track:7pgJBLVz5VmnL7uGHmRj6p   \n",
      "2      0vSWgAlfpye0WCGeNmuNhy  spotify:track:0vSWgAlfpye0WCGeNmuNhy   \n",
      "3      0VSXnJqQkwuH2ei1nOQ1nu  spotify:track:0VSXnJqQkwuH2ei1nOQ1nu   \n",
      "4      4jCeguq9rMTlbMmPHuO7S3  spotify:track:4jCeguq9rMTlbMmPHuO7S3   \n",
      "...                       ...                                   ...   \n",
      "42300  46bXU7Sgj7104ZoXxzz9tM  spotify:track:46bXU7Sgj7104ZoXxzz9tM   \n",
      "42301  0he2ViGMUO3ajKTxLOfWVT  spotify:track:0he2ViGMUO3ajKTxLOfWVT   \n",
      "42302  72DAt9Lbpy9EUS29OzQLob  spotify:track:72DAt9Lbpy9EUS29OzQLob   \n",
      "42303  6HXgExFVuE1c3cq9QjFCcU  spotify:track:6HXgExFVuE1c3cq9QjFCcU   \n",
      "42304  6MAAMZImxcvYhRnxDLTufD  spotify:track:6MAAMZImxcvYhRnxDLTufD   \n",
      "\n",
      "                                              track_href  duration_ms  \\\n",
      "0      https://api.spotify.com/v1/tracks/2Vc6NJ9PW9gD...       124539   \n",
      "1      https://api.spotify.com/v1/tracks/7pgJBLVz5Vmn...       224427   \n",
      "2      https://api.spotify.com/v1/tracks/0vSWgAlfpye0...        98821   \n",
      "3      https://api.spotify.com/v1/tracks/0VSXnJqQkwuH...       123661   \n",
      "4      https://api.spotify.com/v1/tracks/4jCeguq9rMTl...       123298   \n",
      "...                                                  ...          ...   \n",
      "42300  https://api.spotify.com/v1/tracks/46bXU7Sgj710...       269208   \n",
      "42301  https://api.spotify.com/v1/tracks/0he2ViGMUO3a...       210112   \n",
      "42302  https://api.spotify.com/v1/tracks/72DAt9Lbpy9E...       234823   \n",
      "42303  https://api.spotify.com/v1/tracks/6HXgExFVuE1c...       323200   \n",
      "42304  https://api.spotify.com/v1/tracks/6MAAMZImxcvY...       162161   \n",
      "\n",
      "       time_signature      genre  \n",
      "0                   4  Dark Trap  \n",
      "1                   4  Dark Trap  \n",
      "2                   4  Dark Trap  \n",
      "3                   3  Dark Trap  \n",
      "4                   4  Dark Trap  \n",
      "...               ...        ...  \n",
      "42300               4  hardstyle  \n",
      "42301               4  hardstyle  \n",
      "42302               4  hardstyle  \n",
      "42303               4  hardstyle  \n",
      "42304               4  hardstyle  \n",
      "\n",
      "[42305 rows x 18 columns]\n"
     ]
    },
    {
     "name": "stderr",
     "output_type": "stream",
     "text": [
      "<ipython-input-22-e4a715657b0f>:7: FutureWarning: elementwise comparison failed; returning scalar instead, but in the future will perform elementwise comparison\n",
      "  if 'audio_features' in df[column].values:\n"
     ]
    }
   ],
   "source": [
    "# Assuming 'df' is your dataframe\n",
    "rows_with_string = []\n",
    "\n",
    "# Iterate over the columns\n",
    "for column in df.columns:\n",
    "    # Check if the column contains the string 'audio_features'\n",
    "    if 'audio_features' in df[column].values:\n",
    "        # Append the rows with the string to the list\n",
    "        rows_with_string.extend(df[df[column] == 'audio_features'].index)\n",
    "\n",
    "# Print the rows with the string 'audio_features'\n",
    "print(df.loc[rows_with_string])"
   ]
  },
  {
   "cell_type": "code",
   "execution_count": 23,
   "metadata": {},
   "outputs": [
    {
     "data": {
      "text/plain": [
       "audio_features    42305\n",
       "Name: type, dtype: int64"
      ]
     },
     "execution_count": 23,
     "metadata": {},
     "output_type": "execute_result"
    }
   ],
   "source": [
    "df['type'].value_counts()"
   ]
  },
  {
   "cell_type": "code",
   "execution_count": 21,
   "metadata": {},
   "outputs": [
    {
     "ename": "ValueError",
     "evalue": "could not convert string to float: 'audio_features'",
     "output_type": "error",
     "traceback": [
      "\u001b[0;31m---------------------------------------------------------------------------\u001b[0m",
      "\u001b[0;31mValueError\u001b[0m                                Traceback (most recent call last)",
      "\u001b[0;32m<ipython-input-21-a9b81804ac31>\u001b[0m in \u001b[0;36m<module>\u001b[0;34m\u001b[0m\n\u001b[1;32m      1\u001b[0m \u001b[0;31m# Step 3: Create a decision tree model and fit it to the training data\u001b[0m\u001b[0;34m\u001b[0m\u001b[0;34m\u001b[0m\u001b[0;34m\u001b[0m\u001b[0m\n\u001b[1;32m      2\u001b[0m \u001b[0mmodel\u001b[0m \u001b[0;34m=\u001b[0m \u001b[0mDecisionTreeClassifier\u001b[0m\u001b[0;34m(\u001b[0m\u001b[0mrandom_state\u001b[0m\u001b[0;34m=\u001b[0m\u001b[0;36m42\u001b[0m\u001b[0;34m)\u001b[0m\u001b[0;34m\u001b[0m\u001b[0;34m\u001b[0m\u001b[0m\n\u001b[0;32m----> 3\u001b[0;31m \u001b[0mmodel\u001b[0m\u001b[0;34m.\u001b[0m\u001b[0mfit\u001b[0m\u001b[0;34m(\u001b[0m\u001b[0mX_train\u001b[0m\u001b[0;34m,\u001b[0m \u001b[0my_train\u001b[0m\u001b[0;34m)\u001b[0m\u001b[0;34m\u001b[0m\u001b[0;34m\u001b[0m\u001b[0m\n\u001b[0m\u001b[1;32m      4\u001b[0m \u001b[0;34m\u001b[0m\u001b[0m\n\u001b[1;32m      5\u001b[0m \u001b[0;31m# Step 4: Evaluate the model's performance on the testing data\u001b[0m\u001b[0;34m\u001b[0m\u001b[0;34m\u001b[0m\u001b[0;34m\u001b[0m\u001b[0m\n",
      "\u001b[0;32m/opt/anaconda3/envs/learn-env/lib/python3.8/site-packages/sklearn/tree/_classes.py\u001b[0m in \u001b[0;36mfit\u001b[0;34m(self, X, y, sample_weight, check_input, X_idx_sorted)\u001b[0m\n\u001b[1;32m    888\u001b[0m         \"\"\"\n\u001b[1;32m    889\u001b[0m \u001b[0;34m\u001b[0m\u001b[0m\n\u001b[0;32m--> 890\u001b[0;31m         super().fit(\n\u001b[0m\u001b[1;32m    891\u001b[0m             \u001b[0mX\u001b[0m\u001b[0;34m,\u001b[0m \u001b[0my\u001b[0m\u001b[0;34m,\u001b[0m\u001b[0;34m\u001b[0m\u001b[0;34m\u001b[0m\u001b[0m\n\u001b[1;32m    892\u001b[0m             \u001b[0msample_weight\u001b[0m\u001b[0;34m=\u001b[0m\u001b[0msample_weight\u001b[0m\u001b[0;34m,\u001b[0m\u001b[0;34m\u001b[0m\u001b[0;34m\u001b[0m\u001b[0m\n",
      "\u001b[0;32m/opt/anaconda3/envs/learn-env/lib/python3.8/site-packages/sklearn/tree/_classes.py\u001b[0m in \u001b[0;36mfit\u001b[0;34m(self, X, y, sample_weight, check_input, X_idx_sorted)\u001b[0m\n\u001b[1;32m    154\u001b[0m             \u001b[0mcheck_X_params\u001b[0m \u001b[0;34m=\u001b[0m \u001b[0mdict\u001b[0m\u001b[0;34m(\u001b[0m\u001b[0mdtype\u001b[0m\u001b[0;34m=\u001b[0m\u001b[0mDTYPE\u001b[0m\u001b[0;34m,\u001b[0m \u001b[0maccept_sparse\u001b[0m\u001b[0;34m=\u001b[0m\u001b[0;34m\"csc\"\u001b[0m\u001b[0;34m)\u001b[0m\u001b[0;34m\u001b[0m\u001b[0;34m\u001b[0m\u001b[0m\n\u001b[1;32m    155\u001b[0m             \u001b[0mcheck_y_params\u001b[0m \u001b[0;34m=\u001b[0m \u001b[0mdict\u001b[0m\u001b[0;34m(\u001b[0m\u001b[0mensure_2d\u001b[0m\u001b[0;34m=\u001b[0m\u001b[0;32mFalse\u001b[0m\u001b[0;34m,\u001b[0m \u001b[0mdtype\u001b[0m\u001b[0;34m=\u001b[0m\u001b[0;32mNone\u001b[0m\u001b[0;34m)\u001b[0m\u001b[0;34m\u001b[0m\u001b[0;34m\u001b[0m\u001b[0m\n\u001b[0;32m--> 156\u001b[0;31m             X, y = self._validate_data(X, y,\n\u001b[0m\u001b[1;32m    157\u001b[0m                                        validate_separately=(check_X_params,\n\u001b[1;32m    158\u001b[0m                                                             check_y_params))\n",
      "\u001b[0;32m/opt/anaconda3/envs/learn-env/lib/python3.8/site-packages/sklearn/base.py\u001b[0m in \u001b[0;36m_validate_data\u001b[0;34m(self, X, y, reset, validate_separately, **check_params)\u001b[0m\n\u001b[1;32m    427\u001b[0m                 \u001b[0;31m# :(\u001b[0m\u001b[0;34m\u001b[0m\u001b[0;34m\u001b[0m\u001b[0;34m\u001b[0m\u001b[0m\n\u001b[1;32m    428\u001b[0m                 \u001b[0mcheck_X_params\u001b[0m\u001b[0;34m,\u001b[0m \u001b[0mcheck_y_params\u001b[0m \u001b[0;34m=\u001b[0m \u001b[0mvalidate_separately\u001b[0m\u001b[0;34m\u001b[0m\u001b[0;34m\u001b[0m\u001b[0m\n\u001b[0;32m--> 429\u001b[0;31m                 \u001b[0mX\u001b[0m \u001b[0;34m=\u001b[0m \u001b[0mcheck_array\u001b[0m\u001b[0;34m(\u001b[0m\u001b[0mX\u001b[0m\u001b[0;34m,\u001b[0m \u001b[0;34m**\u001b[0m\u001b[0mcheck_X_params\u001b[0m\u001b[0;34m)\u001b[0m\u001b[0;34m\u001b[0m\u001b[0;34m\u001b[0m\u001b[0m\n\u001b[0m\u001b[1;32m    430\u001b[0m                 \u001b[0my\u001b[0m \u001b[0;34m=\u001b[0m \u001b[0mcheck_array\u001b[0m\u001b[0;34m(\u001b[0m\u001b[0my\u001b[0m\u001b[0;34m,\u001b[0m \u001b[0;34m**\u001b[0m\u001b[0mcheck_y_params\u001b[0m\u001b[0;34m)\u001b[0m\u001b[0;34m\u001b[0m\u001b[0;34m\u001b[0m\u001b[0m\n\u001b[1;32m    431\u001b[0m             \u001b[0;32melse\u001b[0m\u001b[0;34m:\u001b[0m\u001b[0;34m\u001b[0m\u001b[0;34m\u001b[0m\u001b[0m\n",
      "\u001b[0;32m/opt/anaconda3/envs/learn-env/lib/python3.8/site-packages/sklearn/utils/validation.py\u001b[0m in \u001b[0;36minner_f\u001b[0;34m(*args, **kwargs)\u001b[0m\n\u001b[1;32m     70\u001b[0m                           FutureWarning)\n\u001b[1;32m     71\u001b[0m         \u001b[0mkwargs\u001b[0m\u001b[0;34m.\u001b[0m\u001b[0mupdate\u001b[0m\u001b[0;34m(\u001b[0m\u001b[0;34m{\u001b[0m\u001b[0mk\u001b[0m\u001b[0;34m:\u001b[0m \u001b[0marg\u001b[0m \u001b[0;32mfor\u001b[0m \u001b[0mk\u001b[0m\u001b[0;34m,\u001b[0m \u001b[0marg\u001b[0m \u001b[0;32min\u001b[0m \u001b[0mzip\u001b[0m\u001b[0;34m(\u001b[0m\u001b[0msig\u001b[0m\u001b[0;34m.\u001b[0m\u001b[0mparameters\u001b[0m\u001b[0;34m,\u001b[0m \u001b[0margs\u001b[0m\u001b[0;34m)\u001b[0m\u001b[0;34m}\u001b[0m\u001b[0;34m)\u001b[0m\u001b[0;34m\u001b[0m\u001b[0;34m\u001b[0m\u001b[0m\n\u001b[0;32m---> 72\u001b[0;31m         \u001b[0;32mreturn\u001b[0m \u001b[0mf\u001b[0m\u001b[0;34m(\u001b[0m\u001b[0;34m**\u001b[0m\u001b[0mkwargs\u001b[0m\u001b[0;34m)\u001b[0m\u001b[0;34m\u001b[0m\u001b[0;34m\u001b[0m\u001b[0m\n\u001b[0m\u001b[1;32m     73\u001b[0m     \u001b[0;32mreturn\u001b[0m \u001b[0minner_f\u001b[0m\u001b[0;34m\u001b[0m\u001b[0;34m\u001b[0m\u001b[0m\n\u001b[1;32m     74\u001b[0m \u001b[0;34m\u001b[0m\u001b[0m\n",
      "\u001b[0;32m/opt/anaconda3/envs/learn-env/lib/python3.8/site-packages/sklearn/utils/validation.py\u001b[0m in \u001b[0;36mcheck_array\u001b[0;34m(array, accept_sparse, accept_large_sparse, dtype, order, copy, force_all_finite, ensure_2d, allow_nd, ensure_min_samples, ensure_min_features, estimator)\u001b[0m\n\u001b[1;32m    596\u001b[0m                     \u001b[0marray\u001b[0m \u001b[0;34m=\u001b[0m \u001b[0marray\u001b[0m\u001b[0;34m.\u001b[0m\u001b[0mastype\u001b[0m\u001b[0;34m(\u001b[0m\u001b[0mdtype\u001b[0m\u001b[0;34m,\u001b[0m \u001b[0mcasting\u001b[0m\u001b[0;34m=\u001b[0m\u001b[0;34m\"unsafe\"\u001b[0m\u001b[0;34m,\u001b[0m \u001b[0mcopy\u001b[0m\u001b[0;34m=\u001b[0m\u001b[0;32mFalse\u001b[0m\u001b[0;34m)\u001b[0m\u001b[0;34m\u001b[0m\u001b[0;34m\u001b[0m\u001b[0m\n\u001b[1;32m    597\u001b[0m                 \u001b[0;32melse\u001b[0m\u001b[0;34m:\u001b[0m\u001b[0;34m\u001b[0m\u001b[0;34m\u001b[0m\u001b[0m\n\u001b[0;32m--> 598\u001b[0;31m                     \u001b[0marray\u001b[0m \u001b[0;34m=\u001b[0m \u001b[0mnp\u001b[0m\u001b[0;34m.\u001b[0m\u001b[0masarray\u001b[0m\u001b[0;34m(\u001b[0m\u001b[0marray\u001b[0m\u001b[0;34m,\u001b[0m \u001b[0morder\u001b[0m\u001b[0;34m=\u001b[0m\u001b[0morder\u001b[0m\u001b[0;34m,\u001b[0m \u001b[0mdtype\u001b[0m\u001b[0;34m=\u001b[0m\u001b[0mdtype\u001b[0m\u001b[0;34m)\u001b[0m\u001b[0;34m\u001b[0m\u001b[0;34m\u001b[0m\u001b[0m\n\u001b[0m\u001b[1;32m    599\u001b[0m             \u001b[0;32mexcept\u001b[0m \u001b[0mComplexWarning\u001b[0m\u001b[0;34m:\u001b[0m\u001b[0;34m\u001b[0m\u001b[0;34m\u001b[0m\u001b[0m\n\u001b[1;32m    600\u001b[0m                 raise ValueError(\"Complex data not supported\\n\"\n",
      "\u001b[0;32m/opt/anaconda3/envs/learn-env/lib/python3.8/site-packages/pandas/core/generic.py\u001b[0m in \u001b[0;36m__array__\u001b[0;34m(self, dtype)\u001b[0m\n\u001b[1;32m   2068\u001b[0m \u001b[0;34m\u001b[0m\u001b[0m\n\u001b[1;32m   2069\u001b[0m     \u001b[0;32mdef\u001b[0m \u001b[0m__array__\u001b[0m\u001b[0;34m(\u001b[0m\u001b[0mself\u001b[0m\u001b[0;34m,\u001b[0m \u001b[0mdtype\u001b[0m\u001b[0;34m:\u001b[0m \u001b[0mnpt\u001b[0m\u001b[0;34m.\u001b[0m\u001b[0mDTypeLike\u001b[0m \u001b[0;34m|\u001b[0m \u001b[0;32mNone\u001b[0m \u001b[0;34m=\u001b[0m \u001b[0;32mNone\u001b[0m\u001b[0;34m)\u001b[0m \u001b[0;34m->\u001b[0m \u001b[0mnp\u001b[0m\u001b[0;34m.\u001b[0m\u001b[0mndarray\u001b[0m\u001b[0;34m:\u001b[0m\u001b[0;34m\u001b[0m\u001b[0;34m\u001b[0m\u001b[0m\n\u001b[0;32m-> 2070\u001b[0;31m         \u001b[0;32mreturn\u001b[0m \u001b[0mnp\u001b[0m\u001b[0;34m.\u001b[0m\u001b[0masarray\u001b[0m\u001b[0;34m(\u001b[0m\u001b[0mself\u001b[0m\u001b[0;34m.\u001b[0m\u001b[0m_values\u001b[0m\u001b[0;34m,\u001b[0m \u001b[0mdtype\u001b[0m\u001b[0;34m=\u001b[0m\u001b[0mdtype\u001b[0m\u001b[0;34m)\u001b[0m\u001b[0;34m\u001b[0m\u001b[0;34m\u001b[0m\u001b[0m\n\u001b[0m\u001b[1;32m   2071\u001b[0m \u001b[0;34m\u001b[0m\u001b[0m\n\u001b[1;32m   2072\u001b[0m     def __array_wrap__(\n",
      "\u001b[0;31mValueError\u001b[0m: could not convert string to float: 'audio_features'"
     ]
    }
   ],
   "source": [
    "# Step 3: Create a decision tree model and fit it to the training data\n",
    "model = DecisionTreeClassifier(random_state=42)\n",
    "model.fit(X_train, y_train)\n",
    "\n",
    "# Step 4: Evaluate the model's performance on the testing data\n",
    "y_pred = model.predict(X_test)\n",
    "accuracy = accuracy_score(y_test, y_pred)\n",
    "print(\"Initial Model Accuracy:\", accuracy)"
   ]
  },
  {
   "cell_type": "code",
   "execution_count": 26,
   "metadata": {},
   "outputs": [],
   "source": [
    "# Importing necessary libraries\n",
    "from sklearn.model_selection import train_test_split\n",
    "from sklearn.tree import DecisionTreeClassifier\n",
    "from sklearn.metrics import accuracy_score\n",
    "\n",
    "# Step 1: Split the data into features (X) and target variable (y)\n",
    "X = df.drop(['genre', 'id', 'type', 'uri', 'track_href'], axis=1)  \n",
    "y = df['genre']\n",
    "\n",
    "# Step 2: Split the data into training and testing sets\n",
    "X_train, X_test, y_train, y_test = train_test_split(X, y, test_size=0.2, random_state=42)\n"
   ]
  },
  {
   "cell_type": "code",
   "execution_count": 27,
   "metadata": {},
   "outputs": [
    {
     "name": "stdout",
     "output_type": "stream",
     "text": [
      "Initial Model Accuracy: 0.5765275972107315\n"
     ]
    }
   ],
   "source": [
    "# Step 3: Create a decision tree model and fit it to the training data\n",
    "model = DecisionTreeClassifier(random_state=42)\n",
    "model.fit(X_train, y_train)\n",
    "\n",
    "# Step 4: Evaluate the model's performance on the testing data\n",
    "y_pred = model.predict(X_test)\n",
    "accuracy = accuracy_score(y_test, y_pred)\n",
    "print(\"Initial Model Accuracy:\", accuracy)"
   ]
  },
  {
   "cell_type": "code",
   "execution_count": null,
   "metadata": {},
   "outputs": [],
   "source": [
    "import matplotlib.pyplot as plt\n",
    "from sklearn.tree import plot_tree\n",
    "\n",
    "# Assuming 'model' is your decision tree model\n",
    "plt.figure(figsize=(10, 8))\n",
    "plot_tree(model, filled=True, rounded=True, feature_names=df.columns[:-1])  # Replace 'df.columns[:-1]' with the actual column names of your features\n",
    "plt.show()"
   ]
  },
  {
   "cell_type": "markdown",
   "metadata": {},
   "source": [
    "## Second Model"
   ]
  },
  {
   "cell_type": "markdown",
   "metadata": {},
   "source": [
    "## Tuned Model"
   ]
  },
  {
   "cell_type": "markdown",
   "metadata": {},
   "source": [
    "## Final Model"
   ]
  },
  {
   "cell_type": "markdown",
   "metadata": {},
   "source": [
    "# EVALUATION"
   ]
  },
  {
   "cell_type": "markdown",
   "metadata": {},
   "source": [
    "# CONCLUSION AND NEXT STEPS"
   ]
  }
 ],
 "metadata": {
  "kernelspec": {
   "display_name": "Python 3",
   "language": "python",
   "name": "python3"
  },
  "language_info": {
   "codemirror_mode": {
    "name": "ipython",
    "version": 3
   },
   "file_extension": ".py",
   "mimetype": "text/x-python",
   "name": "python",
   "nbconvert_exporter": "python",
   "pygments_lexer": "ipython3",
   "version": "3.8.5"
  }
 },
 "nbformat": 4,
 "nbformat_minor": 4
}
