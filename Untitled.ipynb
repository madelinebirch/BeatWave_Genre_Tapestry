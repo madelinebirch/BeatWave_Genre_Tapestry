{
 "cells": [
  {
   "cell_type": "markdown",
   "metadata": {},
   "source": [
    "# Data Classification: Crafting BeatWave's Genre Tapestry"
   ]
  },
  {
   "cell_type": "markdown",
   "metadata": {},
   "source": [
    "## Business Understanding"
   ]
  },
  {
   "cell_type": "markdown",
   "metadata": {},
   "source": [
    "Classifying songs into different genres can aid in organizing and categorizing a large music library. This can be useful for music streaming platforms that need to categorize and tag their music content effectively. \n",
    "\n",
    "We are working for a fictional startup called 'BeatWave', an up-and-coming music streaming platform specializing in electronic music. Through the iterative process of data classification, we can begin to sift through popular electronic songs and give BeatWave a better understanding of which sonic metrics predict which genres. This will allow for a streamlined approach to classifying titles into their appropriate categories."
   ]
  },
  {
   "cell_type": "markdown",
   "metadata": {},
   "source": [
    "## Data Understanding"
   ]
  },
  {
   "cell_type": "markdown",
   "metadata": {},
   "source": [
    "Data source: https://www.kaggle.com/datasets/mrmorj/dataset-of-songs-in-spotify\n",
    "\n",
    "We are using an open source dataset that displays sample data from popular streaming platform Spotify. Using this data will help us gauge our place in competition with the world's leading streaming service.\n",
    "\n",
    "Let's begin by importing the necessary libraries and superficially inspecting the dataset."
   ]
  },
  {
   "cell_type": "code",
   "execution_count": 2,
   "metadata": {},
   "outputs": [
    {
     "name": "stderr",
     "output_type": "stream",
     "text": [
      "<ipython-input-2-85ec021d79d1>:4: DtypeWarning: Columns (19) have mixed types. Specify dtype option on import or set low_memory=False.\n",
      "  df = pd.read_csv('Data/genres.csv')\n"
     ]
    },
    {
     "data": {
      "text/html": [
       "<div>\n",
       "<style scoped>\n",
       "    .dataframe tbody tr th:only-of-type {\n",
       "        vertical-align: middle;\n",
       "    }\n",
       "\n",
       "    .dataframe tbody tr th {\n",
       "        vertical-align: top;\n",
       "    }\n",
       "\n",
       "    .dataframe thead th {\n",
       "        text-align: right;\n",
       "    }\n",
       "</style>\n",
       "<table border=\"1\" class=\"dataframe\">\n",
       "  <thead>\n",
       "    <tr style=\"text-align: right;\">\n",
       "      <th></th>\n",
       "      <th>danceability</th>\n",
       "      <th>energy</th>\n",
       "      <th>key</th>\n",
       "      <th>loudness</th>\n",
       "      <th>mode</th>\n",
       "      <th>speechiness</th>\n",
       "      <th>acousticness</th>\n",
       "      <th>instrumentalness</th>\n",
       "      <th>liveness</th>\n",
       "      <th>valence</th>\n",
       "      <th>...</th>\n",
       "      <th>id</th>\n",
       "      <th>uri</th>\n",
       "      <th>track_href</th>\n",
       "      <th>analysis_url</th>\n",
       "      <th>duration_ms</th>\n",
       "      <th>time_signature</th>\n",
       "      <th>genre</th>\n",
       "      <th>song_name</th>\n",
       "      <th>Unnamed: 0</th>\n",
       "      <th>title</th>\n",
       "    </tr>\n",
       "  </thead>\n",
       "  <tbody>\n",
       "    <tr>\n",
       "      <th>0</th>\n",
       "      <td>0.831</td>\n",
       "      <td>0.814</td>\n",
       "      <td>2</td>\n",
       "      <td>-7.364</td>\n",
       "      <td>1</td>\n",
       "      <td>0.4200</td>\n",
       "      <td>0.0598</td>\n",
       "      <td>0.013400</td>\n",
       "      <td>0.0556</td>\n",
       "      <td>0.3890</td>\n",
       "      <td>...</td>\n",
       "      <td>2Vc6NJ9PW9gD9q343XFRKx</td>\n",
       "      <td>spotify:track:2Vc6NJ9PW9gD9q343XFRKx</td>\n",
       "      <td>https://api.spotify.com/v1/tracks/2Vc6NJ9PW9gD...</td>\n",
       "      <td>https://api.spotify.com/v1/audio-analysis/2Vc6...</td>\n",
       "      <td>124539</td>\n",
       "      <td>4</td>\n",
       "      <td>Dark Trap</td>\n",
       "      <td>Mercury: Retrograde</td>\n",
       "      <td>NaN</td>\n",
       "      <td>NaN</td>\n",
       "    </tr>\n",
       "    <tr>\n",
       "      <th>1</th>\n",
       "      <td>0.719</td>\n",
       "      <td>0.493</td>\n",
       "      <td>8</td>\n",
       "      <td>-7.230</td>\n",
       "      <td>1</td>\n",
       "      <td>0.0794</td>\n",
       "      <td>0.4010</td>\n",
       "      <td>0.000000</td>\n",
       "      <td>0.1180</td>\n",
       "      <td>0.1240</td>\n",
       "      <td>...</td>\n",
       "      <td>7pgJBLVz5VmnL7uGHmRj6p</td>\n",
       "      <td>spotify:track:7pgJBLVz5VmnL7uGHmRj6p</td>\n",
       "      <td>https://api.spotify.com/v1/tracks/7pgJBLVz5Vmn...</td>\n",
       "      <td>https://api.spotify.com/v1/audio-analysis/7pgJ...</td>\n",
       "      <td>224427</td>\n",
       "      <td>4</td>\n",
       "      <td>Dark Trap</td>\n",
       "      <td>Pathology</td>\n",
       "      <td>NaN</td>\n",
       "      <td>NaN</td>\n",
       "    </tr>\n",
       "    <tr>\n",
       "      <th>2</th>\n",
       "      <td>0.850</td>\n",
       "      <td>0.893</td>\n",
       "      <td>5</td>\n",
       "      <td>-4.783</td>\n",
       "      <td>1</td>\n",
       "      <td>0.0623</td>\n",
       "      <td>0.0138</td>\n",
       "      <td>0.000004</td>\n",
       "      <td>0.3720</td>\n",
       "      <td>0.0391</td>\n",
       "      <td>...</td>\n",
       "      <td>0vSWgAlfpye0WCGeNmuNhy</td>\n",
       "      <td>spotify:track:0vSWgAlfpye0WCGeNmuNhy</td>\n",
       "      <td>https://api.spotify.com/v1/tracks/0vSWgAlfpye0...</td>\n",
       "      <td>https://api.spotify.com/v1/audio-analysis/0vSW...</td>\n",
       "      <td>98821</td>\n",
       "      <td>4</td>\n",
       "      <td>Dark Trap</td>\n",
       "      <td>Symbiote</td>\n",
       "      <td>NaN</td>\n",
       "      <td>NaN</td>\n",
       "    </tr>\n",
       "    <tr>\n",
       "      <th>3</th>\n",
       "      <td>0.476</td>\n",
       "      <td>0.781</td>\n",
       "      <td>0</td>\n",
       "      <td>-4.710</td>\n",
       "      <td>1</td>\n",
       "      <td>0.1030</td>\n",
       "      <td>0.0237</td>\n",
       "      <td>0.000000</td>\n",
       "      <td>0.1140</td>\n",
       "      <td>0.1750</td>\n",
       "      <td>...</td>\n",
       "      <td>0VSXnJqQkwuH2ei1nOQ1nu</td>\n",
       "      <td>spotify:track:0VSXnJqQkwuH2ei1nOQ1nu</td>\n",
       "      <td>https://api.spotify.com/v1/tracks/0VSXnJqQkwuH...</td>\n",
       "      <td>https://api.spotify.com/v1/audio-analysis/0VSX...</td>\n",
       "      <td>123661</td>\n",
       "      <td>3</td>\n",
       "      <td>Dark Trap</td>\n",
       "      <td>ProductOfDrugs (Prod. The Virus and Antidote)</td>\n",
       "      <td>NaN</td>\n",
       "      <td>NaN</td>\n",
       "    </tr>\n",
       "    <tr>\n",
       "      <th>4</th>\n",
       "      <td>0.798</td>\n",
       "      <td>0.624</td>\n",
       "      <td>2</td>\n",
       "      <td>-7.668</td>\n",
       "      <td>1</td>\n",
       "      <td>0.2930</td>\n",
       "      <td>0.2170</td>\n",
       "      <td>0.000000</td>\n",
       "      <td>0.1660</td>\n",
       "      <td>0.5910</td>\n",
       "      <td>...</td>\n",
       "      <td>4jCeguq9rMTlbMmPHuO7S3</td>\n",
       "      <td>spotify:track:4jCeguq9rMTlbMmPHuO7S3</td>\n",
       "      <td>https://api.spotify.com/v1/tracks/4jCeguq9rMTl...</td>\n",
       "      <td>https://api.spotify.com/v1/audio-analysis/4jCe...</td>\n",
       "      <td>123298</td>\n",
       "      <td>4</td>\n",
       "      <td>Dark Trap</td>\n",
       "      <td>Venom</td>\n",
       "      <td>NaN</td>\n",
       "      <td>NaN</td>\n",
       "    </tr>\n",
       "  </tbody>\n",
       "</table>\n",
       "<p>5 rows × 22 columns</p>\n",
       "</div>"
      ],
      "text/plain": [
       "   danceability  energy  key  loudness  mode  speechiness  acousticness  \\\n",
       "0         0.831   0.814    2    -7.364     1       0.4200        0.0598   \n",
       "1         0.719   0.493    8    -7.230     1       0.0794        0.4010   \n",
       "2         0.850   0.893    5    -4.783     1       0.0623        0.0138   \n",
       "3         0.476   0.781    0    -4.710     1       0.1030        0.0237   \n",
       "4         0.798   0.624    2    -7.668     1       0.2930        0.2170   \n",
       "\n",
       "   instrumentalness  liveness  valence  ...                      id  \\\n",
       "0          0.013400    0.0556   0.3890  ...  2Vc6NJ9PW9gD9q343XFRKx   \n",
       "1          0.000000    0.1180   0.1240  ...  7pgJBLVz5VmnL7uGHmRj6p   \n",
       "2          0.000004    0.3720   0.0391  ...  0vSWgAlfpye0WCGeNmuNhy   \n",
       "3          0.000000    0.1140   0.1750  ...  0VSXnJqQkwuH2ei1nOQ1nu   \n",
       "4          0.000000    0.1660   0.5910  ...  4jCeguq9rMTlbMmPHuO7S3   \n",
       "\n",
       "                                    uri  \\\n",
       "0  spotify:track:2Vc6NJ9PW9gD9q343XFRKx   \n",
       "1  spotify:track:7pgJBLVz5VmnL7uGHmRj6p   \n",
       "2  spotify:track:0vSWgAlfpye0WCGeNmuNhy   \n",
       "3  spotify:track:0VSXnJqQkwuH2ei1nOQ1nu   \n",
       "4  spotify:track:4jCeguq9rMTlbMmPHuO7S3   \n",
       "\n",
       "                                          track_href  \\\n",
       "0  https://api.spotify.com/v1/tracks/2Vc6NJ9PW9gD...   \n",
       "1  https://api.spotify.com/v1/tracks/7pgJBLVz5Vmn...   \n",
       "2  https://api.spotify.com/v1/tracks/0vSWgAlfpye0...   \n",
       "3  https://api.spotify.com/v1/tracks/0VSXnJqQkwuH...   \n",
       "4  https://api.spotify.com/v1/tracks/4jCeguq9rMTl...   \n",
       "\n",
       "                                        analysis_url duration_ms  \\\n",
       "0  https://api.spotify.com/v1/audio-analysis/2Vc6...      124539   \n",
       "1  https://api.spotify.com/v1/audio-analysis/7pgJ...      224427   \n",
       "2  https://api.spotify.com/v1/audio-analysis/0vSW...       98821   \n",
       "3  https://api.spotify.com/v1/audio-analysis/0VSX...      123661   \n",
       "4  https://api.spotify.com/v1/audio-analysis/4jCe...      123298   \n",
       "\n",
       "  time_signature      genre                                      song_name  \\\n",
       "0              4  Dark Trap                            Mercury: Retrograde   \n",
       "1              4  Dark Trap                                      Pathology   \n",
       "2              4  Dark Trap                                       Symbiote   \n",
       "3              3  Dark Trap  ProductOfDrugs (Prod. The Virus and Antidote)   \n",
       "4              4  Dark Trap                                          Venom   \n",
       "\n",
       "  Unnamed: 0 title  \n",
       "0        NaN   NaN  \n",
       "1        NaN   NaN  \n",
       "2        NaN   NaN  \n",
       "3        NaN   NaN  \n",
       "4        NaN   NaN  \n",
       "\n",
       "[5 rows x 22 columns]"
      ]
     },
     "execution_count": 2,
     "metadata": {},
     "output_type": "execute_result"
    }
   ],
   "source": [
    "import pandas as pd\n",
    "import numpy as np\n",
    "\n",
    "df = pd.read_csv('Data/genres.csv')\n",
    "\n",
    "df.head()"
   ]
  },
  {
   "cell_type": "code",
   "execution_count": 3,
   "metadata": {},
   "outputs": [
    {
     "data": {
      "text/plain": [
       "(42305, 22)"
      ]
     },
     "execution_count": 3,
     "metadata": {},
     "output_type": "execute_result"
    }
   ],
   "source": [
    "df.shape"
   ]
  },
  {
   "cell_type": "code",
   "execution_count": 4,
   "metadata": {},
   "outputs": [
    {
     "data": {
      "text/plain": [
       "Index(['danceability', 'energy', 'key', 'loudness', 'mode', 'speechiness',\n",
       "       'acousticness', 'instrumentalness', 'liveness', 'valence', 'tempo',\n",
       "       'type', 'id', 'uri', 'track_href', 'analysis_url', 'duration_ms',\n",
       "       'time_signature', 'genre', 'song_name', 'Unnamed: 0', 'title'],\n",
       "      dtype='object')"
      ]
     },
     "execution_count": 4,
     "metadata": {},
     "output_type": "execute_result"
    }
   ],
   "source": [
    "df.columns"
   ]
  },
  {
   "cell_type": "code",
   "execution_count": 5,
   "metadata": {},
   "outputs": [
    {
     "data": {
      "text/plain": [
       "15"
      ]
     },
     "execution_count": 5,
     "metadata": {},
     "output_type": "execute_result"
    }
   ],
   "source": [
    "# Assessing the number of genres in our target variable\n",
    "len(df['genre'].value_counts())"
   ]
  },
  {
   "cell_type": "code",
   "execution_count": 6,
   "metadata": {},
   "outputs": [
    {
     "data": {
      "text/plain": [
       "Underground Rap    5875\n",
       "Dark Trap          4578\n",
       "Hiphop             3028\n",
       "trance             2999\n",
       "trap               2987\n",
       "techhouse          2975\n",
       "dnb                2966\n",
       "psytrance          2961\n",
       "techno             2956\n",
       "hardstyle          2936\n",
       "RnB                2099\n",
       "Trap Metal         1956\n",
       "Rap                1848\n",
       "Emo                1680\n",
       "Pop                 461\n",
       "Name: genre, dtype: int64"
      ]
     },
     "execution_count": 6,
     "metadata": {},
     "output_type": "execute_result"
    }
   ],
   "source": [
    "df['genre'].value_counts()"
   ]
  },
  {
   "cell_type": "code",
   "execution_count": 7,
   "metadata": {},
   "outputs": [
    {
     "data": {
      "text/plain": [
       "<bound method NDFrame.describe of        danceability  energy  key  loudness  mode  speechiness  acousticness  \\\n",
       "0             0.831   0.814    2    -7.364     1       0.4200      0.059800   \n",
       "1             0.719   0.493    8    -7.230     1       0.0794      0.401000   \n",
       "2             0.850   0.893    5    -4.783     1       0.0623      0.013800   \n",
       "3             0.476   0.781    0    -4.710     1       0.1030      0.023700   \n",
       "4             0.798   0.624    2    -7.668     1       0.2930      0.217000   \n",
       "...             ...     ...  ...       ...   ...          ...           ...   \n",
       "42300         0.528   0.693    4    -5.148     1       0.0304      0.031500   \n",
       "42301         0.517   0.768    0    -7.922     0       0.0479      0.022500   \n",
       "42302         0.361   0.821    8    -3.102     1       0.0505      0.026000   \n",
       "42303         0.477   0.921    6    -4.777     0       0.0392      0.000551   \n",
       "42304         0.529   0.945    9    -5.862     1       0.0615      0.001890   \n",
       "\n",
       "       instrumentalness  liveness  valence  ...                      id  \\\n",
       "0              0.013400    0.0556   0.3890  ...  2Vc6NJ9PW9gD9q343XFRKx   \n",
       "1              0.000000    0.1180   0.1240  ...  7pgJBLVz5VmnL7uGHmRj6p   \n",
       "2              0.000004    0.3720   0.0391  ...  0vSWgAlfpye0WCGeNmuNhy   \n",
       "3              0.000000    0.1140   0.1750  ...  0VSXnJqQkwuH2ei1nOQ1nu   \n",
       "4              0.000000    0.1660   0.5910  ...  4jCeguq9rMTlbMmPHuO7S3   \n",
       "...                 ...       ...      ...  ...                     ...   \n",
       "42300          0.000345    0.1210   0.3940  ...  46bXU7Sgj7104ZoXxzz9tM   \n",
       "42301          0.000018    0.2050   0.3830  ...  0he2ViGMUO3ajKTxLOfWVT   \n",
       "42302          0.000242    0.3850   0.1240  ...  72DAt9Lbpy9EUS29OzQLob   \n",
       "42303          0.029600    0.0575   0.4880  ...  6HXgExFVuE1c3cq9QjFCcU   \n",
       "42304          0.000055    0.4140   0.1340  ...  6MAAMZImxcvYhRnxDLTufD   \n",
       "\n",
       "                                        uri  \\\n",
       "0      spotify:track:2Vc6NJ9PW9gD9q343XFRKx   \n",
       "1      spotify:track:7pgJBLVz5VmnL7uGHmRj6p   \n",
       "2      spotify:track:0vSWgAlfpye0WCGeNmuNhy   \n",
       "3      spotify:track:0VSXnJqQkwuH2ei1nOQ1nu   \n",
       "4      spotify:track:4jCeguq9rMTlbMmPHuO7S3   \n",
       "...                                     ...   \n",
       "42300  spotify:track:46bXU7Sgj7104ZoXxzz9tM   \n",
       "42301  spotify:track:0he2ViGMUO3ajKTxLOfWVT   \n",
       "42302  spotify:track:72DAt9Lbpy9EUS29OzQLob   \n",
       "42303  spotify:track:6HXgExFVuE1c3cq9QjFCcU   \n",
       "42304  spotify:track:6MAAMZImxcvYhRnxDLTufD   \n",
       "\n",
       "                                              track_href  \\\n",
       "0      https://api.spotify.com/v1/tracks/2Vc6NJ9PW9gD...   \n",
       "1      https://api.spotify.com/v1/tracks/7pgJBLVz5Vmn...   \n",
       "2      https://api.spotify.com/v1/tracks/0vSWgAlfpye0...   \n",
       "3      https://api.spotify.com/v1/tracks/0VSXnJqQkwuH...   \n",
       "4      https://api.spotify.com/v1/tracks/4jCeguq9rMTl...   \n",
       "...                                                  ...   \n",
       "42300  https://api.spotify.com/v1/tracks/46bXU7Sgj710...   \n",
       "42301  https://api.spotify.com/v1/tracks/0he2ViGMUO3a...   \n",
       "42302  https://api.spotify.com/v1/tracks/72DAt9Lbpy9E...   \n",
       "42303  https://api.spotify.com/v1/tracks/6HXgExFVuE1c...   \n",
       "42304  https://api.spotify.com/v1/tracks/6MAAMZImxcvY...   \n",
       "\n",
       "                                            analysis_url duration_ms  \\\n",
       "0      https://api.spotify.com/v1/audio-analysis/2Vc6...      124539   \n",
       "1      https://api.spotify.com/v1/audio-analysis/7pgJ...      224427   \n",
       "2      https://api.spotify.com/v1/audio-analysis/0vSW...       98821   \n",
       "3      https://api.spotify.com/v1/audio-analysis/0VSX...      123661   \n",
       "4      https://api.spotify.com/v1/audio-analysis/4jCe...      123298   \n",
       "...                                                  ...         ...   \n",
       "42300  https://api.spotify.com/v1/audio-analysis/46bX...      269208   \n",
       "42301  https://api.spotify.com/v1/audio-analysis/0he2...      210112   \n",
       "42302  https://api.spotify.com/v1/audio-analysis/72DA...      234823   \n",
       "42303  https://api.spotify.com/v1/audio-analysis/6HXg...      323200   \n",
       "42304  https://api.spotify.com/v1/audio-analysis/6MAA...      162161   \n",
       "\n",
       "      time_signature      genre  \\\n",
       "0                  4  Dark Trap   \n",
       "1                  4  Dark Trap   \n",
       "2                  4  Dark Trap   \n",
       "3                  3  Dark Trap   \n",
       "4                  4  Dark Trap   \n",
       "...              ...        ...   \n",
       "42300              4  hardstyle   \n",
       "42301              4  hardstyle   \n",
       "42302              4  hardstyle   \n",
       "42303              4  hardstyle   \n",
       "42304              4  hardstyle   \n",
       "\n",
       "                                           song_name Unnamed: 0  \\\n",
       "0                                Mercury: Retrograde        NaN   \n",
       "1                                          Pathology        NaN   \n",
       "2                                           Symbiote        NaN   \n",
       "3      ProductOfDrugs (Prod. The Virus and Antidote)        NaN   \n",
       "4                                              Venom        NaN   \n",
       "...                                              ...        ...   \n",
       "42300                                            NaN    20995.0   \n",
       "42301                                            NaN    20996.0   \n",
       "42302                                            NaN    20997.0   \n",
       "42303                                            NaN    20998.0   \n",
       "42304                                            NaN    20999.0   \n",
       "\n",
       "                             title  \n",
       "0                              NaN  \n",
       "1                              NaN  \n",
       "2                              NaN  \n",
       "3                              NaN  \n",
       "4                              NaN  \n",
       "...                            ...  \n",
       "42300           Euphoric Hardstyle  \n",
       "42301  Greatest Hardstyle Playlist  \n",
       "42302       Best of Hardstyle 2020  \n",
       "42303           Euphoric Hardstyle  \n",
       "42304       Best of Hardstyle 2020  \n",
       "\n",
       "[42305 rows x 22 columns]>"
      ]
     },
     "execution_count": 7,
     "metadata": {},
     "output_type": "execute_result"
    }
   ],
   "source": [
    "df.describe"
   ]
  },
  {
   "cell_type": "markdown",
   "metadata": {},
   "source": [
    "## Data Preparation"
   ]
  },
  {
   "cell_type": "code",
   "execution_count": 8,
   "metadata": {},
   "outputs": [
    {
     "data": {
      "text/plain": [
       "danceability            0\n",
       "energy                  0\n",
       "key                     0\n",
       "loudness                0\n",
       "mode                    0\n",
       "speechiness             0\n",
       "acousticness            0\n",
       "instrumentalness        0\n",
       "liveness                0\n",
       "valence                 0\n",
       "tempo                   0\n",
       "type                    0\n",
       "id                      0\n",
       "uri                     0\n",
       "track_href              0\n",
       "analysis_url            0\n",
       "duration_ms             0\n",
       "time_signature          0\n",
       "genre                   0\n",
       "song_name           20786\n",
       "Unnamed: 0          21525\n",
       "title               21525\n",
       "dtype: int64"
      ]
     },
     "execution_count": 8,
     "metadata": {},
     "output_type": "execute_result"
    }
   ],
   "source": [
    "df.isnull().sum()"
   ]
  },
  {
   "cell_type": "code",
   "execution_count": 9,
   "metadata": {},
   "outputs": [],
   "source": [
    "df = df.dropna(axis=1)"
   ]
  },
  {
   "cell_type": "code",
   "execution_count": 10,
   "metadata": {},
   "outputs": [
    {
     "data": {
      "text/plain": [
       "danceability        0\n",
       "energy              0\n",
       "key                 0\n",
       "loudness            0\n",
       "mode                0\n",
       "speechiness         0\n",
       "acousticness        0\n",
       "instrumentalness    0\n",
       "liveness            0\n",
       "valence             0\n",
       "tempo               0\n",
       "type                0\n",
       "id                  0\n",
       "uri                 0\n",
       "track_href          0\n",
       "analysis_url        0\n",
       "duration_ms         0\n",
       "time_signature      0\n",
       "genre               0\n",
       "dtype: int64"
      ]
     },
     "execution_count": 10,
     "metadata": {},
     "output_type": "execute_result"
    }
   ],
   "source": [
    "df.isnull().sum()"
   ]
  },
  {
   "cell_type": "code",
   "execution_count": 11,
   "metadata": {},
   "outputs": [
    {
     "name": "stdout",
     "output_type": "stream",
     "text": [
      "Columns containing strings:\n",
      "Index(['type', 'id', 'uri', 'track_href', 'analysis_url', 'genre'], dtype='object')\n"
     ]
    }
   ],
   "source": [
    "# Getting the column names containing strings\n",
    "string_columns = df.select_dtypes(include=['object']).columns\n",
    "\n",
    "# Printing the column names containing strings\n",
    "print(\"Columns containing strings:\")\n",
    "print(string_columns)"
   ]
  },
  {
   "cell_type": "markdown",
   "metadata": {},
   "source": [
    "## Modeling"
   ]
  },
  {
   "cell_type": "markdown",
   "metadata": {},
   "source": [
    "### First Model: Decision Tree"
   ]
  },
  {
   "cell_type": "code",
   "execution_count": 14,
   "metadata": {},
   "outputs": [],
   "source": [
    "# Importing necessary libraries\n",
    "from sklearn.model_selection import train_test_split\n",
    "from sklearn.tree import DecisionTreeClassifier\n",
    "from sklearn.metrics import accuracy_score\n",
    "\n",
    "# Step 1: Split the data into features (X) and target variable (y)\n",
    "X = df.drop(['genre', 'id', 'type', 'uri', 'track_href', 'analysis_url'], axis=1)  \n",
    "y = df['genre']\n",
    "\n",
    "# Step 2: Split the data into training and testing sets\n",
    "X_train, X_test, y_train, y_test = train_test_split(X, y, test_size=0.2, random_state=42)\n"
   ]
  },
  {
   "cell_type": "code",
   "execution_count": 15,
   "metadata": {},
   "outputs": [
    {
     "name": "stdout",
     "output_type": "stream",
     "text": [
      "Initial Model Accuracy: 0.5765275972107315\n"
     ]
    }
   ],
   "source": [
    "# Step 3: Create a decision tree model and fit it to the training data\n",
    "model = DecisionTreeClassifier(random_state=42)\n",
    "model.fit(X_train, y_train)\n",
    "\n",
    "# Step 4: Evaluate the model's performance on the testing data\n",
    "y_pred = model.predict(X_test)\n",
    "accuracy = accuracy_score(y_test, y_pred)\n",
    "print(\"Initial Model Accuracy:\", accuracy)"
   ]
  },
  {
   "cell_type": "markdown",
   "metadata": {},
   "source": [
    "Not bad! We scored over 50% in initial model accuracy. However, it's possible that accuracy alone may not provide a comprehensive evaluation of the model's performance, especially if the dataset is imbalanced or if different classes have varying importance.\n",
    "\n",
    "We might want to consider other evaluation metrics like precision, recall, F1-score, or area under the ROC curve (AUC-ROC) to gain a more complete understanding of the model's performance. First, let's check the class distributions to see whether we want to use macro or micro averaging in our performance metrics."
   ]
  },
  {
   "cell_type": "code",
   "execution_count": 22,
   "metadata": {},
   "outputs": [
    {
     "name": "stdout",
     "output_type": "stream",
     "text": [
      "Class Counts:\n",
      "Underground Rap    4683\n",
      "Dark Trap          3608\n",
      "trance             2437\n",
      "Hiphop             2407\n",
      "techhouse          2407\n",
      "trap               2405\n",
      "dnb                2367\n",
      "techno             2366\n",
      "psytrance          2363\n",
      "hardstyle          2317\n",
      "RnB                1703\n",
      "Trap Metal         1572\n",
      "Rap                1507\n",
      "Emo                1339\n",
      "Pop                 363\n",
      "Name: genre, dtype: int64\n",
      "\n",
      "Class Proportions:\n",
      "Underground Rap    0.138370\n",
      "Dark Trap          0.106607\n",
      "trance             0.072007\n",
      "Hiphop             0.071120\n",
      "techhouse          0.071120\n",
      "trap               0.071061\n",
      "dnb                0.069939\n",
      "techno             0.069909\n",
      "psytrance          0.069820\n",
      "hardstyle          0.068461\n",
      "RnB                0.050319\n",
      "Trap Metal         0.046448\n",
      "Rap                0.044528\n",
      "Emo                0.039564\n",
      "Pop                0.010726\n",
      "Name: genre, dtype: float64\n",
      "\n",
      "Imbalance Ratio:\n",
      "12.900826446280991\n"
     ]
    }
   ],
   "source": [
    "import pandas as pd\n",
    "\n",
    "# Creating a DataFrame to analyze the class distribution\n",
    "class_distribution_df = pd.DataFrame({'genre': y_train})\n",
    "class_counts = class_distribution_df['genre'].value_counts()\n",
    "\n",
    "# Calculating class proportions\n",
    "class_proportions = class_counts / len(y_train)\n",
    "\n",
    "# Calculating the imbalance ratio\n",
    "imbalance_ratio = class_counts.max() / class_counts.min()\n",
    "\n",
    "# Printing the class counts, proportions, and imbalance ratio\n",
    "print(\"Class Counts:\")\n",
    "print(class_counts)\n",
    "\n",
    "print(\"\\nClass Proportions:\")\n",
    "print(class_proportions)\n",
    "\n",
    "print(\"\\nImbalance Ratio:\")\n",
    "print(imbalance_ratio)\n"
   ]
  },
  {
   "cell_type": "markdown",
   "metadata": {},
   "source": [
    "Class imbalance? Check. The class distribution shows that some genres have much higher sample counts than others. \n",
    "\n",
    "**Class Counts:**\n",
    "\n",
    "The class counts indicate the number of samples available for each genre in our dataset.\n",
    "Some genres have a substantial number of samples, such as \"Underground Rap\" (4683 samples) and \"Dark Trap\" (3608 samples).\n",
    "On the other hand, genres like \"Pop\" have very few samples (363 samples), making it a minority class.\n",
    "\n",
    "**Class Proportions:**\n",
    "\n",
    "The class proportions represent the percentage of each genre's samples relative to the total number of samples in the dataset.\n",
    "Genres like \"Underground Rap\" and \"Dark Trap\" account for a significant portion of the dataset (around 13.84% and 10.66% respectively).\n",
    "\"Pop\" represents a very small proportion of the dataset (around 1.07%).\n",
    "Imbalance Ratio:\n",
    "\n",
    "The imbalance ratio is the ratio between the count of samples in the majority class (\"Underground Rap\") and the count of samples in the minority class (\"Pop\").\n",
    "In this case, the imbalance ratio is approximately 12.9, indicating a substantial class imbalance.\n",
    "\n",
    "Given the high class imbalance in the dataset, ***using macro-averaging for precision, recall, and F1 score calculation is appropriate.*** Macro-averaging will give equal weight to each class, allowing us to evaluate the model's performance across all genres without bias towards the majority classes."
   ]
  },
  {
   "cell_type": "code",
   "execution_count": 23,
   "metadata": {},
   "outputs": [
    {
     "name": "stdout",
     "output_type": "stream",
     "text": [
      "    Class  Precision    Recall  F1 Score            Genre\n",
      "0       0   0.363296  0.400000  0.556652  Underground Rap\n",
      "1       1   0.547009  0.563050  0.556652        Dark Trap\n",
      "2       2   0.294207  0.310789  0.556652           Hiphop\n",
      "3       3   0.118421  0.091837  0.556652           trance\n",
      "4       4   0.331731  0.404692  0.556652             trap\n",
      "5       5   0.287129  0.292929  0.556652        techhouse\n",
      "6       6   0.208845  0.221354  0.556652              dnb\n",
      "7       7   0.322981  0.261745  0.556652        psytrance\n",
      "8       8   0.938843  0.948247  0.556652           techno\n",
      "9       9   0.846527  0.846527  0.556652        hardstyle\n",
      "10     10   0.904514  0.871237  0.556652              RnB\n",
      "11     11   0.802698  0.838028  0.556652       Trap Metal\n",
      "12     12   0.800341  0.794915  0.556652              Rap\n",
      "13     13   0.758803  0.766904  0.556652              Emo\n",
      "14     14   0.800000  0.783505  0.556652              Pop\n"
     ]
    }
   ],
   "source": [
    "from sklearn.metrics import precision_score, recall_score, f1_score\n",
    "\n",
    "# Calculating precision\n",
    "precision = precision_score(y_test, y_pred, average=None)\n",
    "\n",
    "# Calculating recall\n",
    "recall = recall_score(y_test, y_pred, average=None)\n",
    "\n",
    "# Creating a new DataFrame to store the results\n",
    "result_df = pd.DataFrame({\n",
    "    'Class': range(len(precision)),\n",
    "    'Precision': precision,\n",
    "    'Recall': recall\n",
    "})\n",
    "\n",
    "# Calculating F1 score\n",
    "f1 = f1_score(y_test, y_pred, average='macro')\n",
    "\n",
    "# Appending the F1 score to the DataFrame\n",
    "result_df['F1 Score'] = [f1] * len(precision)\n",
    "\n",
    "# Mapping class indices to genre names and create a new 'Genre' column in the DataFrame\n",
    "genre_labels = ['Underground Rap', 'Dark Trap', 'Hiphop', 'trance', 'trap', 'techhouse', 'dnb', 'psytrance', 'techno', 'hardstyle', 'RnB', 'Trap Metal', 'Rap', 'Emo', 'Pop']\n",
    "result_df['Genre'] = [genre_labels[class_idx] for class_idx in result_df['Class']]\n",
    "\n",
    "# Printing the resultts DataFrame\n",
    "print(result_df)\n"
   ]
  },
  {
   "cell_type": "markdown",
   "metadata": {},
   "source": [
    "Here's how we interpret the above results dataframe:\n",
    "\n",
    "**Precision**\n",
    "\n",
    "- An indication of how many of the predicted positive instances are actually true positive instances.\n",
    "- Higher precision values indicate that the model has ***fewer false positives for that particular class.***\n",
    "-  In the case of \"trance\" (Class 3), the precision is 0.118421. This means that, out of all the instances the model predicted as \"trance,\" only around 11.84% of them are **correct**, while the rest are false positives.\n",
    "\n",
    "**Recall**\n",
    "\n",
    "- Sensitivity or true positive rate; measures how many of the actual positive instances the model correctly identified\n",
    "- Higher recall values indicate that the model has ***fewer false negatives for that particular class.***\n",
    "- The recall for \"Dark Trap\" (Class 1) is approximately 0.563050. This means that the model correctly identified around 56.31% of all instances of \"Dark Trap,\" while some were **missed** as false negatives.\n",
    "\n",
    "**F1 Score**\n",
    "\n",
    "- Harmonic mean of precision and recall\n",
    "- Provides a balanced measure of the model's performance, taking both false positives and false negatives into account.\n",
    "- Usually used when there is an ***imbalance between the number of samples in different classes.***"
   ]
  },
  {
   "cell_type": "code",
   "execution_count": null,
   "metadata": {},
   "outputs": [],
   "source": []
  }
 ],
 "metadata": {
  "kernelspec": {
   "display_name": "Python 3",
   "language": "python",
   "name": "python3"
  },
  "language_info": {
   "codemirror_mode": {
    "name": "ipython",
    "version": 3
   },
   "file_extension": ".py",
   "mimetype": "text/x-python",
   "name": "python",
   "nbconvert_exporter": "python",
   "pygments_lexer": "ipython3",
   "version": "3.8.5"
  }
 },
 "nbformat": 4,
 "nbformat_minor": 4
}
